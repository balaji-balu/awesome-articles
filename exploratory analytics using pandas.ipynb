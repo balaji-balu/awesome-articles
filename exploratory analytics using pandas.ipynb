{
  "nbformat": 4,
  "nbformat_minor": 0,
  "metadata": {
    "colab": {
      "name": "Untitled2.ipynb",
      "provenance": [],
      "authorship_tag": "ABX9TyM1kz+5FvgkooLgJXgnp+XU",
      "include_colab_link": true
    },
    "kernelspec": {
      "name": "python3",
      "display_name": "Python 3"
    },
    "language_info": {
      "name": "python"
    }
  },
  "cells": [
    {
      "cell_type": "markdown",
      "metadata": {
        "id": "view-in-github",
        "colab_type": "text"
      },
      "source": [
        "<a href=\"https://colab.research.google.com/github/balaji-balu/awesome-articles/blob/master/exploratory%20analytics%20using%20pandas.ipynb\" target=\"_parent\"><img src=\"https://colab.research.google.com/assets/colab-badge.svg\" alt=\"Open In Colab\"/></a>"
      ]
    },
    {
      "cell_type": "markdown",
      "metadata": {
        "id": "owA9K2Vb88RG"
      },
      "source": [
        "something\n"
      ]
    },
    {
      "cell_type": "code",
      "metadata": {
        "id": "3_cxd1HB8Nzl"
      },
      "source": [
        "import numpy as np\n",
        "import pandas as pd\n",
        "pd.set_option(\"display.precision\", 2)"
      ],
      "execution_count": 1,
      "outputs": []
    },
    {
      "cell_type": "code",
      "metadata": {
        "colab": {
          "base_uri": "https://localhost:8080/",
          "height": 343
        },
        "id": "cwm4MI9j9CEY",
        "outputId": "67a10f24-49ba-422f-8d0c-d0c75004207d"
      },
      "source": [
        "df = pd.read_csv('telecom_churn.csv')\n",
        "df.head()"
      ],
      "execution_count": 4,
      "outputs": [
        {
          "output_type": "execute_result",
          "data": {
            "text/html": [
              "<div>\n",
              "<style scoped>\n",
              "    .dataframe tbody tr th:only-of-type {\n",
              "        vertical-align: middle;\n",
              "    }\n",
              "\n",
              "    .dataframe tbody tr th {\n",
              "        vertical-align: top;\n",
              "    }\n",
              "\n",
              "    .dataframe thead th {\n",
              "        text-align: right;\n",
              "    }\n",
              "</style>\n",
              "<table border=\"1\" class=\"dataframe\">\n",
              "  <thead>\n",
              "    <tr style=\"text-align: right;\">\n",
              "      <th></th>\n",
              "      <th>state</th>\n",
              "      <th>account length</th>\n",
              "      <th>area code</th>\n",
              "      <th>phone number</th>\n",
              "      <th>international plan</th>\n",
              "      <th>voice mail plan</th>\n",
              "      <th>number vmail messages</th>\n",
              "      <th>total day minutes</th>\n",
              "      <th>total day calls</th>\n",
              "      <th>total day charge</th>\n",
              "      <th>total eve minutes</th>\n",
              "      <th>total eve calls</th>\n",
              "      <th>total eve charge</th>\n",
              "      <th>total night minutes</th>\n",
              "      <th>total night calls</th>\n",
              "      <th>total night charge</th>\n",
              "      <th>total intl minutes</th>\n",
              "      <th>total intl calls</th>\n",
              "      <th>total intl charge</th>\n",
              "      <th>customer service calls</th>\n",
              "      <th>churn</th>\n",
              "    </tr>\n",
              "  </thead>\n",
              "  <tbody>\n",
              "    <tr>\n",
              "      <th>0</th>\n",
              "      <td>KS</td>\n",
              "      <td>128</td>\n",
              "      <td>415</td>\n",
              "      <td>382-4657</td>\n",
              "      <td>no</td>\n",
              "      <td>yes</td>\n",
              "      <td>25</td>\n",
              "      <td>265.1</td>\n",
              "      <td>110</td>\n",
              "      <td>45.07</td>\n",
              "      <td>197.4</td>\n",
              "      <td>99</td>\n",
              "      <td>16.78</td>\n",
              "      <td>244.7</td>\n",
              "      <td>91</td>\n",
              "      <td>11.01</td>\n",
              "      <td>10.0</td>\n",
              "      <td>3</td>\n",
              "      <td>2.70</td>\n",
              "      <td>1</td>\n",
              "      <td>False</td>\n",
              "    </tr>\n",
              "    <tr>\n",
              "      <th>1</th>\n",
              "      <td>OH</td>\n",
              "      <td>107</td>\n",
              "      <td>415</td>\n",
              "      <td>371-7191</td>\n",
              "      <td>no</td>\n",
              "      <td>yes</td>\n",
              "      <td>26</td>\n",
              "      <td>161.6</td>\n",
              "      <td>123</td>\n",
              "      <td>27.47</td>\n",
              "      <td>195.5</td>\n",
              "      <td>103</td>\n",
              "      <td>16.62</td>\n",
              "      <td>254.4</td>\n",
              "      <td>103</td>\n",
              "      <td>11.45</td>\n",
              "      <td>13.7</td>\n",
              "      <td>3</td>\n",
              "      <td>3.70</td>\n",
              "      <td>1</td>\n",
              "      <td>False</td>\n",
              "    </tr>\n",
              "    <tr>\n",
              "      <th>2</th>\n",
              "      <td>NJ</td>\n",
              "      <td>137</td>\n",
              "      <td>415</td>\n",
              "      <td>358-1921</td>\n",
              "      <td>no</td>\n",
              "      <td>no</td>\n",
              "      <td>0</td>\n",
              "      <td>243.4</td>\n",
              "      <td>114</td>\n",
              "      <td>41.38</td>\n",
              "      <td>121.2</td>\n",
              "      <td>110</td>\n",
              "      <td>10.30</td>\n",
              "      <td>162.6</td>\n",
              "      <td>104</td>\n",
              "      <td>7.32</td>\n",
              "      <td>12.2</td>\n",
              "      <td>5</td>\n",
              "      <td>3.29</td>\n",
              "      <td>0</td>\n",
              "      <td>False</td>\n",
              "    </tr>\n",
              "    <tr>\n",
              "      <th>3</th>\n",
              "      <td>OH</td>\n",
              "      <td>84</td>\n",
              "      <td>408</td>\n",
              "      <td>375-9999</td>\n",
              "      <td>yes</td>\n",
              "      <td>no</td>\n",
              "      <td>0</td>\n",
              "      <td>299.4</td>\n",
              "      <td>71</td>\n",
              "      <td>50.90</td>\n",
              "      <td>61.9</td>\n",
              "      <td>88</td>\n",
              "      <td>5.26</td>\n",
              "      <td>196.9</td>\n",
              "      <td>89</td>\n",
              "      <td>8.86</td>\n",
              "      <td>6.6</td>\n",
              "      <td>7</td>\n",
              "      <td>1.78</td>\n",
              "      <td>2</td>\n",
              "      <td>False</td>\n",
              "    </tr>\n",
              "    <tr>\n",
              "      <th>4</th>\n",
              "      <td>OK</td>\n",
              "      <td>75</td>\n",
              "      <td>415</td>\n",
              "      <td>330-6626</td>\n",
              "      <td>yes</td>\n",
              "      <td>no</td>\n",
              "      <td>0</td>\n",
              "      <td>166.7</td>\n",
              "      <td>113</td>\n",
              "      <td>28.34</td>\n",
              "      <td>148.3</td>\n",
              "      <td>122</td>\n",
              "      <td>12.61</td>\n",
              "      <td>186.9</td>\n",
              "      <td>121</td>\n",
              "      <td>8.41</td>\n",
              "      <td>10.1</td>\n",
              "      <td>3</td>\n",
              "      <td>2.73</td>\n",
              "      <td>3</td>\n",
              "      <td>False</td>\n",
              "    </tr>\n",
              "  </tbody>\n",
              "</table>\n",
              "</div>"
            ],
            "text/plain": [
              "  state  account length  ...  customer service calls  churn\n",
              "0    KS             128  ...                       1  False\n",
              "1    OH             107  ...                       1  False\n",
              "2    NJ             137  ...                       0  False\n",
              "3    OH              84  ...                       2  False\n",
              "4    OK              75  ...                       3  False\n",
              "\n",
              "[5 rows x 21 columns]"
            ]
          },
          "metadata": {
            "tags": []
          },
          "execution_count": 4
        }
      ]
    },
    {
      "cell_type": "code",
      "metadata": {
        "colab": {
          "base_uri": "https://localhost:8080/"
        },
        "id": "C0qazGue_05y",
        "outputId": "0dd7943f-2bfb-4a69-b195-fdfd6cb55668"
      },
      "source": [
        "print(df.shape)"
      ],
      "execution_count": 5,
      "outputs": [
        {
          "output_type": "stream",
          "text": [
            "(3333, 21)\n"
          ],
          "name": "stdout"
        }
      ]
    },
    {
      "cell_type": "code",
      "metadata": {
        "colab": {
          "base_uri": "https://localhost:8080/"
        },
        "id": "OJYHDpwzAFvD",
        "outputId": "787539ee-ecf9-407e-d8c9-64243c82d94e"
      },
      "source": [
        "print(df.columns)"
      ],
      "execution_count": 6,
      "outputs": [
        {
          "output_type": "stream",
          "text": [
            "Index(['state', 'account length', 'area code', 'phone number',\n",
            "       'international plan', 'voice mail plan', 'number vmail messages',\n",
            "       'total day minutes', 'total day calls', 'total day charge',\n",
            "       'total eve minutes', 'total eve calls', 'total eve charge',\n",
            "       'total night minutes', 'total night calls', 'total night charge',\n",
            "       'total intl minutes', 'total intl calls', 'total intl charge',\n",
            "       'customer service calls', 'churn'],\n",
            "      dtype='object')\n"
          ],
          "name": "stdout"
        }
      ]
    },
    {
      "cell_type": "code",
      "metadata": {
        "colab": {
          "base_uri": "https://localhost:8080/"
        },
        "id": "Re8GU9dTAbDH",
        "outputId": "df44fa8e-a99a-4393-8d22-120f40329030"
      },
      "source": [
        "print(df.info())"
      ],
      "execution_count": 7,
      "outputs": [
        {
          "output_type": "stream",
          "text": [
            "<class 'pandas.core.frame.DataFrame'>\n",
            "RangeIndex: 3333 entries, 0 to 3332\n",
            "Data columns (total 21 columns):\n",
            " #   Column                  Non-Null Count  Dtype  \n",
            "---  ------                  --------------  -----  \n",
            " 0   state                   3333 non-null   object \n",
            " 1   account length          3333 non-null   int64  \n",
            " 2   area code               3333 non-null   int64  \n",
            " 3   phone number            3333 non-null   object \n",
            " 4   international plan      3333 non-null   object \n",
            " 5   voice mail plan         3333 non-null   object \n",
            " 6   number vmail messages   3333 non-null   int64  \n",
            " 7   total day minutes       3333 non-null   float64\n",
            " 8   total day calls         3333 non-null   int64  \n",
            " 9   total day charge        3333 non-null   float64\n",
            " 10  total eve minutes       3333 non-null   float64\n",
            " 11  total eve calls         3333 non-null   int64  \n",
            " 12  total eve charge        3333 non-null   float64\n",
            " 13  total night minutes     3333 non-null   float64\n",
            " 14  total night calls       3333 non-null   int64  \n",
            " 15  total night charge      3333 non-null   float64\n",
            " 16  total intl minutes      3333 non-null   float64\n",
            " 17  total intl calls        3333 non-null   int64  \n",
            " 18  total intl charge       3333 non-null   float64\n",
            " 19  customer service calls  3333 non-null   int64  \n",
            " 20  churn                   3333 non-null   bool   \n",
            "dtypes: bool(1), float64(8), int64(8), object(4)\n",
            "memory usage: 524.2+ KB\n",
            "None\n"
          ],
          "name": "stdout"
        }
      ]
    },
    {
      "cell_type": "code",
      "metadata": {
        "colab": {
          "base_uri": "https://localhost:8080/"
        },
        "id": "S8EZ6YC8A0_B",
        "outputId": "4fb5e611-4637-4de1-ead9-fc3960409a8a"
      },
      "source": [
        "df['churn'] = df['churn'].astype('int64')\n",
        "print(df['churn'])"
      ],
      "execution_count": 13,
      "outputs": [
        {
          "output_type": "stream",
          "text": [
            "0       0\n",
            "1       0\n",
            "2       0\n",
            "3       0\n",
            "4       0\n",
            "       ..\n",
            "3328    0\n",
            "3329    0\n",
            "3330    0\n",
            "3331    0\n",
            "3332    0\n",
            "Name: churn, Length: 3333, dtype: int64\n"
          ],
          "name": "stdout"
        }
      ]
    },
    {
      "cell_type": "code",
      "metadata": {
        "colab": {
          "base_uri": "https://localhost:8080/",
          "height": 331
        },
        "id": "MfMUm_ycBi90",
        "outputId": "27b8e6a3-c0b2-4971-eb6d-5455f5c1d72c"
      },
      "source": [
        "df.describe()\n"
      ],
      "execution_count": 14,
      "outputs": [
        {
          "output_type": "execute_result",
          "data": {
            "text/html": [
              "<div>\n",
              "<style scoped>\n",
              "    .dataframe tbody tr th:only-of-type {\n",
              "        vertical-align: middle;\n",
              "    }\n",
              "\n",
              "    .dataframe tbody tr th {\n",
              "        vertical-align: top;\n",
              "    }\n",
              "\n",
              "    .dataframe thead th {\n",
              "        text-align: right;\n",
              "    }\n",
              "</style>\n",
              "<table border=\"1\" class=\"dataframe\">\n",
              "  <thead>\n",
              "    <tr style=\"text-align: right;\">\n",
              "      <th></th>\n",
              "      <th>account length</th>\n",
              "      <th>area code</th>\n",
              "      <th>number vmail messages</th>\n",
              "      <th>total day minutes</th>\n",
              "      <th>total day calls</th>\n",
              "      <th>total day charge</th>\n",
              "      <th>total eve minutes</th>\n",
              "      <th>total eve calls</th>\n",
              "      <th>total eve charge</th>\n",
              "      <th>total night minutes</th>\n",
              "      <th>total night calls</th>\n",
              "      <th>total night charge</th>\n",
              "      <th>total intl minutes</th>\n",
              "      <th>total intl calls</th>\n",
              "      <th>total intl charge</th>\n",
              "      <th>customer service calls</th>\n",
              "      <th>churn</th>\n",
              "    </tr>\n",
              "  </thead>\n",
              "  <tbody>\n",
              "    <tr>\n",
              "      <th>count</th>\n",
              "      <td>3333.00</td>\n",
              "      <td>3333.00</td>\n",
              "      <td>3333.00</td>\n",
              "      <td>3333.00</td>\n",
              "      <td>3333.00</td>\n",
              "      <td>3333.00</td>\n",
              "      <td>3333.00</td>\n",
              "      <td>3333.00</td>\n",
              "      <td>3333.00</td>\n",
              "      <td>3333.00</td>\n",
              "      <td>3333.00</td>\n",
              "      <td>3333.00</td>\n",
              "      <td>3333.00</td>\n",
              "      <td>3333.00</td>\n",
              "      <td>3333.00</td>\n",
              "      <td>3333.00</td>\n",
              "      <td>3333.00</td>\n",
              "    </tr>\n",
              "    <tr>\n",
              "      <th>mean</th>\n",
              "      <td>101.06</td>\n",
              "      <td>437.18</td>\n",
              "      <td>8.10</td>\n",
              "      <td>179.78</td>\n",
              "      <td>100.44</td>\n",
              "      <td>30.56</td>\n",
              "      <td>200.98</td>\n",
              "      <td>100.11</td>\n",
              "      <td>17.08</td>\n",
              "      <td>200.87</td>\n",
              "      <td>100.11</td>\n",
              "      <td>9.04</td>\n",
              "      <td>10.24</td>\n",
              "      <td>4.48</td>\n",
              "      <td>2.76</td>\n",
              "      <td>1.56</td>\n",
              "      <td>0.14</td>\n",
              "    </tr>\n",
              "    <tr>\n",
              "      <th>std</th>\n",
              "      <td>39.82</td>\n",
              "      <td>42.37</td>\n",
              "      <td>13.69</td>\n",
              "      <td>54.47</td>\n",
              "      <td>20.07</td>\n",
              "      <td>9.26</td>\n",
              "      <td>50.71</td>\n",
              "      <td>19.92</td>\n",
              "      <td>4.31</td>\n",
              "      <td>50.57</td>\n",
              "      <td>19.57</td>\n",
              "      <td>2.28</td>\n",
              "      <td>2.79</td>\n",
              "      <td>2.46</td>\n",
              "      <td>0.75</td>\n",
              "      <td>1.32</td>\n",
              "      <td>0.35</td>\n",
              "    </tr>\n",
              "    <tr>\n",
              "      <th>min</th>\n",
              "      <td>1.00</td>\n",
              "      <td>408.00</td>\n",
              "      <td>0.00</td>\n",
              "      <td>0.00</td>\n",
              "      <td>0.00</td>\n",
              "      <td>0.00</td>\n",
              "      <td>0.00</td>\n",
              "      <td>0.00</td>\n",
              "      <td>0.00</td>\n",
              "      <td>23.20</td>\n",
              "      <td>33.00</td>\n",
              "      <td>1.04</td>\n",
              "      <td>0.00</td>\n",
              "      <td>0.00</td>\n",
              "      <td>0.00</td>\n",
              "      <td>0.00</td>\n",
              "      <td>0.00</td>\n",
              "    </tr>\n",
              "    <tr>\n",
              "      <th>25%</th>\n",
              "      <td>74.00</td>\n",
              "      <td>408.00</td>\n",
              "      <td>0.00</td>\n",
              "      <td>143.70</td>\n",
              "      <td>87.00</td>\n",
              "      <td>24.43</td>\n",
              "      <td>166.60</td>\n",
              "      <td>87.00</td>\n",
              "      <td>14.16</td>\n",
              "      <td>167.00</td>\n",
              "      <td>87.00</td>\n",
              "      <td>7.52</td>\n",
              "      <td>8.50</td>\n",
              "      <td>3.00</td>\n",
              "      <td>2.30</td>\n",
              "      <td>1.00</td>\n",
              "      <td>0.00</td>\n",
              "    </tr>\n",
              "    <tr>\n",
              "      <th>50%</th>\n",
              "      <td>101.00</td>\n",
              "      <td>415.00</td>\n",
              "      <td>0.00</td>\n",
              "      <td>179.40</td>\n",
              "      <td>101.00</td>\n",
              "      <td>30.50</td>\n",
              "      <td>201.40</td>\n",
              "      <td>100.00</td>\n",
              "      <td>17.12</td>\n",
              "      <td>201.20</td>\n",
              "      <td>100.00</td>\n",
              "      <td>9.05</td>\n",
              "      <td>10.30</td>\n",
              "      <td>4.00</td>\n",
              "      <td>2.78</td>\n",
              "      <td>1.00</td>\n",
              "      <td>0.00</td>\n",
              "    </tr>\n",
              "    <tr>\n",
              "      <th>75%</th>\n",
              "      <td>127.00</td>\n",
              "      <td>510.00</td>\n",
              "      <td>20.00</td>\n",
              "      <td>216.40</td>\n",
              "      <td>114.00</td>\n",
              "      <td>36.79</td>\n",
              "      <td>235.30</td>\n",
              "      <td>114.00</td>\n",
              "      <td>20.00</td>\n",
              "      <td>235.30</td>\n",
              "      <td>113.00</td>\n",
              "      <td>10.59</td>\n",
              "      <td>12.10</td>\n",
              "      <td>6.00</td>\n",
              "      <td>3.27</td>\n",
              "      <td>2.00</td>\n",
              "      <td>0.00</td>\n",
              "    </tr>\n",
              "    <tr>\n",
              "      <th>max</th>\n",
              "      <td>243.00</td>\n",
              "      <td>510.00</td>\n",
              "      <td>51.00</td>\n",
              "      <td>350.80</td>\n",
              "      <td>165.00</td>\n",
              "      <td>59.64</td>\n",
              "      <td>363.70</td>\n",
              "      <td>170.00</td>\n",
              "      <td>30.91</td>\n",
              "      <td>395.00</td>\n",
              "      <td>175.00</td>\n",
              "      <td>17.77</td>\n",
              "      <td>20.00</td>\n",
              "      <td>20.00</td>\n",
              "      <td>5.40</td>\n",
              "      <td>9.00</td>\n",
              "      <td>1.00</td>\n",
              "    </tr>\n",
              "  </tbody>\n",
              "</table>\n",
              "</div>"
            ],
            "text/plain": [
              "       account length  area code  ...  customer service calls    churn\n",
              "count         3333.00    3333.00  ...                 3333.00  3333.00\n",
              "mean           101.06     437.18  ...                    1.56     0.14\n",
              "std             39.82      42.37  ...                    1.32     0.35\n",
              "min              1.00     408.00  ...                    0.00     0.00\n",
              "25%             74.00     408.00  ...                    1.00     0.00\n",
              "50%            101.00     415.00  ...                    1.00     0.00\n",
              "75%            127.00     510.00  ...                    2.00     0.00\n",
              "max            243.00     510.00  ...                    9.00     1.00\n",
              "\n",
              "[8 rows x 17 columns]"
            ]
          },
          "metadata": {
            "tags": []
          },
          "execution_count": 14
        }
      ]
    },
    {
      "cell_type": "code",
      "metadata": {
        "colab": {
          "base_uri": "https://localhost:8080/",
          "height": 173
        },
        "id": "ubNMS-rOB-0I",
        "outputId": "bd3559e7-bfbe-4f8f-8f0f-6dcdf0e8cfa0"
      },
      "source": [
        "df.describe(include=['object', 'bool'])"
      ],
      "execution_count": 15,
      "outputs": [
        {
          "output_type": "execute_result",
          "data": {
            "text/html": [
              "<div>\n",
              "<style scoped>\n",
              "    .dataframe tbody tr th:only-of-type {\n",
              "        vertical-align: middle;\n",
              "    }\n",
              "\n",
              "    .dataframe tbody tr th {\n",
              "        vertical-align: top;\n",
              "    }\n",
              "\n",
              "    .dataframe thead th {\n",
              "        text-align: right;\n",
              "    }\n",
              "</style>\n",
              "<table border=\"1\" class=\"dataframe\">\n",
              "  <thead>\n",
              "    <tr style=\"text-align: right;\">\n",
              "      <th></th>\n",
              "      <th>state</th>\n",
              "      <th>phone number</th>\n",
              "      <th>international plan</th>\n",
              "      <th>voice mail plan</th>\n",
              "    </tr>\n",
              "  </thead>\n",
              "  <tbody>\n",
              "    <tr>\n",
              "      <th>count</th>\n",
              "      <td>3333</td>\n",
              "      <td>3333</td>\n",
              "      <td>3333</td>\n",
              "      <td>3333</td>\n",
              "    </tr>\n",
              "    <tr>\n",
              "      <th>unique</th>\n",
              "      <td>51</td>\n",
              "      <td>3333</td>\n",
              "      <td>2</td>\n",
              "      <td>2</td>\n",
              "    </tr>\n",
              "    <tr>\n",
              "      <th>top</th>\n",
              "      <td>WV</td>\n",
              "      <td>336-5616</td>\n",
              "      <td>no</td>\n",
              "      <td>no</td>\n",
              "    </tr>\n",
              "    <tr>\n",
              "      <th>freq</th>\n",
              "      <td>106</td>\n",
              "      <td>1</td>\n",
              "      <td>3010</td>\n",
              "      <td>2411</td>\n",
              "    </tr>\n",
              "  </tbody>\n",
              "</table>\n",
              "</div>"
            ],
            "text/plain": [
              "       state phone number international plan voice mail plan\n",
              "count   3333         3333               3333            3333\n",
              "unique    51         3333                  2               2\n",
              "top       WV     336-5616                 no              no\n",
              "freq     106            1               3010            2411"
            ]
          },
          "metadata": {
            "tags": []
          },
          "execution_count": 15
        }
      ]
    },
    {
      "cell_type": "code",
      "metadata": {
        "colab": {
          "base_uri": "https://localhost:8080/"
        },
        "id": "15PG5jxnCqMw",
        "outputId": "348c9201-110e-483f-ec92-04a8b361030b"
      },
      "source": [
        "df['churn'].value_counts(normalize=True)"
      ],
      "execution_count": 17,
      "outputs": [
        {
          "output_type": "execute_result",
          "data": {
            "text/plain": [
              "0    0.86\n",
              "1    0.14\n",
              "Name: churn, dtype: float64"
            ]
          },
          "metadata": {
            "tags": []
          },
          "execution_count": 17
        }
      ]
    },
    {
      "cell_type": "code",
      "metadata": {
        "colab": {
          "base_uri": "https://localhost:8080/",
          "height": 343
        },
        "id": "tB-eCQA6EYmO",
        "outputId": "df00bfdc-f51f-4c6d-b6e9-c26f224dda17"
      },
      "source": [
        "df.sort_values(by='total day charge', ascending=False).head()"
      ],
      "execution_count": 22,
      "outputs": [
        {
          "output_type": "execute_result",
          "data": {
            "text/html": [
              "<div>\n",
              "<style scoped>\n",
              "    .dataframe tbody tr th:only-of-type {\n",
              "        vertical-align: middle;\n",
              "    }\n",
              "\n",
              "    .dataframe tbody tr th {\n",
              "        vertical-align: top;\n",
              "    }\n",
              "\n",
              "    .dataframe thead th {\n",
              "        text-align: right;\n",
              "    }\n",
              "</style>\n",
              "<table border=\"1\" class=\"dataframe\">\n",
              "  <thead>\n",
              "    <tr style=\"text-align: right;\">\n",
              "      <th></th>\n",
              "      <th>state</th>\n",
              "      <th>account length</th>\n",
              "      <th>area code</th>\n",
              "      <th>phone number</th>\n",
              "      <th>international plan</th>\n",
              "      <th>voice mail plan</th>\n",
              "      <th>number vmail messages</th>\n",
              "      <th>total day minutes</th>\n",
              "      <th>total day calls</th>\n",
              "      <th>total day charge</th>\n",
              "      <th>total eve minutes</th>\n",
              "      <th>total eve calls</th>\n",
              "      <th>total eve charge</th>\n",
              "      <th>total night minutes</th>\n",
              "      <th>total night calls</th>\n",
              "      <th>total night charge</th>\n",
              "      <th>total intl minutes</th>\n",
              "      <th>total intl calls</th>\n",
              "      <th>total intl charge</th>\n",
              "      <th>customer service calls</th>\n",
              "      <th>churn</th>\n",
              "    </tr>\n",
              "  </thead>\n",
              "  <tbody>\n",
              "    <tr>\n",
              "      <th>365</th>\n",
              "      <td>CO</td>\n",
              "      <td>154</td>\n",
              "      <td>415</td>\n",
              "      <td>343-5709</td>\n",
              "      <td>no</td>\n",
              "      <td>no</td>\n",
              "      <td>0</td>\n",
              "      <td>350.8</td>\n",
              "      <td>75</td>\n",
              "      <td>59.64</td>\n",
              "      <td>216.5</td>\n",
              "      <td>94</td>\n",
              "      <td>18.40</td>\n",
              "      <td>253.9</td>\n",
              "      <td>100</td>\n",
              "      <td>11.43</td>\n",
              "      <td>10.1</td>\n",
              "      <td>9</td>\n",
              "      <td>2.73</td>\n",
              "      <td>1</td>\n",
              "      <td>1</td>\n",
              "    </tr>\n",
              "    <tr>\n",
              "      <th>985</th>\n",
              "      <td>NY</td>\n",
              "      <td>64</td>\n",
              "      <td>415</td>\n",
              "      <td>345-9140</td>\n",
              "      <td>yes</td>\n",
              "      <td>no</td>\n",
              "      <td>0</td>\n",
              "      <td>346.8</td>\n",
              "      <td>55</td>\n",
              "      <td>58.96</td>\n",
              "      <td>249.5</td>\n",
              "      <td>79</td>\n",
              "      <td>21.21</td>\n",
              "      <td>275.4</td>\n",
              "      <td>102</td>\n",
              "      <td>12.39</td>\n",
              "      <td>13.3</td>\n",
              "      <td>9</td>\n",
              "      <td>3.59</td>\n",
              "      <td>1</td>\n",
              "      <td>1</td>\n",
              "    </tr>\n",
              "    <tr>\n",
              "      <th>2594</th>\n",
              "      <td>OH</td>\n",
              "      <td>115</td>\n",
              "      <td>510</td>\n",
              "      <td>348-1163</td>\n",
              "      <td>yes</td>\n",
              "      <td>no</td>\n",
              "      <td>0</td>\n",
              "      <td>345.3</td>\n",
              "      <td>81</td>\n",
              "      <td>58.70</td>\n",
              "      <td>203.4</td>\n",
              "      <td>106</td>\n",
              "      <td>17.29</td>\n",
              "      <td>217.5</td>\n",
              "      <td>107</td>\n",
              "      <td>9.79</td>\n",
              "      <td>11.8</td>\n",
              "      <td>8</td>\n",
              "      <td>3.19</td>\n",
              "      <td>1</td>\n",
              "      <td>1</td>\n",
              "    </tr>\n",
              "    <tr>\n",
              "      <th>156</th>\n",
              "      <td>OH</td>\n",
              "      <td>83</td>\n",
              "      <td>415</td>\n",
              "      <td>370-9116</td>\n",
              "      <td>no</td>\n",
              "      <td>no</td>\n",
              "      <td>0</td>\n",
              "      <td>337.4</td>\n",
              "      <td>120</td>\n",
              "      <td>57.36</td>\n",
              "      <td>227.4</td>\n",
              "      <td>116</td>\n",
              "      <td>19.33</td>\n",
              "      <td>153.9</td>\n",
              "      <td>114</td>\n",
              "      <td>6.93</td>\n",
              "      <td>15.8</td>\n",
              "      <td>7</td>\n",
              "      <td>4.27</td>\n",
              "      <td>0</td>\n",
              "      <td>1</td>\n",
              "    </tr>\n",
              "    <tr>\n",
              "      <th>605</th>\n",
              "      <td>MO</td>\n",
              "      <td>112</td>\n",
              "      <td>415</td>\n",
              "      <td>373-2053</td>\n",
              "      <td>no</td>\n",
              "      <td>no</td>\n",
              "      <td>0</td>\n",
              "      <td>335.5</td>\n",
              "      <td>77</td>\n",
              "      <td>57.04</td>\n",
              "      <td>212.5</td>\n",
              "      <td>109</td>\n",
              "      <td>18.06</td>\n",
              "      <td>265.0</td>\n",
              "      <td>132</td>\n",
              "      <td>11.93</td>\n",
              "      <td>12.7</td>\n",
              "      <td>8</td>\n",
              "      <td>3.43</td>\n",
              "      <td>2</td>\n",
              "      <td>1</td>\n",
              "    </tr>\n",
              "  </tbody>\n",
              "</table>\n",
              "</div>"
            ],
            "text/plain": [
              "     state  account length  ...  customer service calls churn\n",
              "365     CO             154  ...                       1     1\n",
              "985     NY              64  ...                       1     1\n",
              "2594    OH             115  ...                       1     1\n",
              "156     OH              83  ...                       0     1\n",
              "605     MO             112  ...                       2     1\n",
              "\n",
              "[5 rows x 21 columns]"
            ]
          },
          "metadata": {
            "tags": []
          },
          "execution_count": 22
        }
      ]
    },
    {
      "cell_type": "code",
      "metadata": {
        "colab": {
          "base_uri": "https://localhost:8080/"
        },
        "id": "3gLBbURBFlB6",
        "outputId": "ca2e35ee-3f05-41a1-da40-609ea556b700"
      },
      "source": [
        "df_sorted = df.sort_values(by=['churn', 'total day charge'],ascending=[True, False])\n",
        "print(df_sorted)"
      ],
      "execution_count": 28,
      "outputs": [
        {
          "output_type": "stream",
          "text": [
            "     state  account length  ...  customer service calls churn\n",
            "688     MN              13  ...                       3     0\n",
            "2259    NC             210  ...                       3     0\n",
            "534     LA              67  ...                       4     0\n",
            "575     SD             114  ...                       1     0\n",
            "2858    AL             141  ...                       1     0\n",
            "...    ...             ...  ...                     ...   ...\n",
            "1837    NH             117  ...                       1     1\n",
            "2173    KS              47  ...                       0     1\n",
            "2158    FL             166  ...                       0     1\n",
            "1531    DE             138  ...                       4     1\n",
            "1345    SD              98  ...                       4     1\n",
            "\n",
            "[3333 rows x 21 columns]\n"
          ],
          "name": "stdout"
        }
      ]
    },
    {
      "cell_type": "code",
      "metadata": {
        "colab": {
          "base_uri": "https://localhost:8080/"
        },
        "id": "-uPBdov3GmSk",
        "outputId": "e4b4374f-a90d-42fd-9dbb-30acb750148a"
      },
      "source": [
        "df['churn'].mean()"
      ],
      "execution_count": 30,
      "outputs": [
        {
          "output_type": "execute_result",
          "data": {
            "text/plain": [
              "0.14491449144914492"
            ]
          },
          "metadata": {
            "tags": []
          },
          "execution_count": 30
        }
      ]
    },
    {
      "cell_type": "code",
      "metadata": {
        "colab": {
          "base_uri": "https://localhost:8080/"
        },
        "id": "GWJDPU3IHI2X",
        "outputId": "e057b124-94be-4110-f7dc-21f66674c3a2"
      },
      "source": [
        "df[df['churn'] == 1].mean()"
      ],
      "execution_count": 33,
      "outputs": [
        {
          "output_type": "execute_result",
          "data": {
            "text/plain": [
              "account length            102.66\n",
              "area code                 437.82\n",
              "number vmail messages       5.12\n",
              "total day minutes         206.91\n",
              "total day calls           101.34\n",
              "total day charge           35.18\n",
              "total eve minutes         212.41\n",
              "total eve calls           100.56\n",
              "total eve charge           18.05\n",
              "total night minutes       205.23\n",
              "total night calls         100.40\n",
              "total night charge          9.24\n",
              "total intl minutes         10.70\n",
              "total intl calls            4.16\n",
              "total intl charge           2.89\n",
              "customer service calls      2.23\n",
              "churn                       1.00\n",
              "dtype: float64"
            ]
          },
          "metadata": {
            "tags": []
          },
          "execution_count": 33
        }
      ]
    },
    {
      "cell_type": "code",
      "metadata": {
        "colab": {
          "base_uri": "https://localhost:8080/"
        },
        "id": "B8ujpt4yH-ra",
        "outputId": "c34215a8-a269-4d16-8fdd-646fbc620dcb"
      },
      "source": [
        "df[df['churn'] == 1]['total day minutes'].mean()"
      ],
      "execution_count": 34,
      "outputs": [
        {
          "output_type": "execute_result",
          "data": {
            "text/plain": [
              "206.91407867494814"
            ]
          },
          "metadata": {
            "tags": []
          },
          "execution_count": 34
        }
      ]
    },
    {
      "cell_type": "code",
      "metadata": {
        "id": "fGAPIUE2OViT"
      },
      "source": [
        "print(df)"
      ],
      "execution_count": null,
      "outputs": []
    }
  ]
}